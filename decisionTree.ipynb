{
 "cells": [
  {
   "cell_type": "markdown",
   "metadata": {},
   "source": [
    "Write a program to demonstrate the working of the decision tree based ID3 algorithm.\n",
    "Use an appropriate data set for building the decision tree and apply this knowledge to\n",
    "classify a new sample."
   ]
  },
  {
   "cell_type": "code",
   "execution_count": 28,
   "metadata": {},
   "outputs": [],
   "source": [
    "import pandas as pd\n",
    "import numpy as np\n",
    "import math"
   ]
  },
  {
   "cell_type": "code",
   "execution_count": 29,
   "metadata": {},
   "outputs": [],
   "source": [
    "# Function to calculate the entropy of a dataset\n",
    "def calculate_entropy(data):\n",
    "    total_records = len(data)\n",
    "    value_counts = data.value_counts()\n",
    "    \n",
    "    entropy = 0\n",
    "    for count in value_counts:\n",
    "        probability = count / total_records\n",
    "        entropy -= probability * math.log2(probability)\n",
    "    \n",
    "    return entropy"
   ]
  },
  {
   "cell_type": "code",
   "execution_count": 30,
   "metadata": {},
   "outputs": [],
   "source": [
    "# Function to calculate information gain for a given feature\n",
    "def calculate_information_gain(data, feature, target):\n",
    "    total_entropy = calculate_entropy(data[target])\n",
    "    \n",
    "    # Split the data by unique values of the feature\n",
    "    feature_values = data[feature].unique()\n",
    "    weighted_entropy = 0\n",
    "    \n",
    "    for value in feature_values:\n",
    "        subset = data[data[feature] == value]\n",
    "        weighted_entropy += (len(subset) / len(data)) * calculate_entropy(subset[target])\n",
    "    \n",
    "    information_gain = total_entropy - weighted_entropy\n",
    "    return information_gain"
   ]
  },
  {
   "cell_type": "code",
   "execution_count": 31,
   "metadata": {},
   "outputs": [],
   "source": [
    "# Function to choose the best feature based on the highest information gain\n",
    "def choose_best_feature(data, target, features):\n",
    "    best_feature = None\n",
    "    best_info_gain = -float('inf')\n",
    "    \n",
    "    for feature in features:\n",
    "        info_gain = calculate_information_gain(data, feature, target)\n",
    "        if info_gain > best_info_gain:\n",
    "            best_info_gain = info_gain\n",
    "            best_feature = feature\n",
    "    \n",
    "    return best_feature"
   ]
  },
  {
   "cell_type": "code",
   "execution_count": 32,
   "metadata": {},
   "outputs": [],
   "source": [
    "# Function to build the decision tree using ID3 algorithm\n",
    "def id3(data, target, features):\n",
    "    # Base case: if all examples have the same class\n",
    "    if len(data[target].unique()) == 1:\n",
    "        return data[target].iloc[0]\n",
    "    \n",
    "    # Base case: if there are no features left to split on\n",
    "    if len(features) == 0:\n",
    "        return data[target].mode()[0]\n",
    "    \n",
    "    # Choose the best feature based on information gain\n",
    "    best_feature = choose_best_feature(data, target, features)\n",
    "    \n",
    "    # Create a decision tree node with the best feature\n",
    "    tree = {best_feature: {}}\n",
    "    \n",
    "    # Split the dataset based on the best feature\n",
    "    remaining_features = [f for f in features if f != best_feature]\n",
    "    \n",
    "    for value in data[best_feature].unique():\n",
    "        subset = data[data[best_feature] == value]\n",
    "        subtree = id3(subset, target, remaining_features)\n",
    "        tree[best_feature][value] = subtree\n",
    "    \n",
    "    return tree"
   ]
  },
  {
   "cell_type": "code",
   "execution_count": 33,
   "metadata": {},
   "outputs": [],
   "source": [
    "# Function to classify a new sample using the decision tree\n",
    "def classify(tree, sample):\n",
    "    if not isinstance(tree, dict):\n",
    "        return tree\n",
    "    \n",
    "    # Get the feature at the top of the tree\n",
    "    feature = list(tree.keys())[0]\n",
    "    feature_value = sample[feature]\n",
    "    \n",
    "    # Traverse down the tree based on the feature value\n",
    "    if feature_value in tree[feature]:\n",
    "        return classify(tree[feature][feature_value], sample)\n",
    "    else:\n",
    "        return None  # In case the feature value is not present in the tree\n"
   ]
  },
  {
   "cell_type": "code",
   "execution_count": 34,
   "metadata": {},
   "outputs": [],
   "source": [
    "# Function to print the decision tree in an arrow and line format\n",
    "def print_tree(tree, indent=\"\"):\n",
    "    if isinstance(tree, dict):\n",
    "        feature = list(tree.keys())[0]\n",
    "        print(f\"{indent}|\")\n",
    "        print(f\"{indent}|-- {feature} ?\")\n",
    "        for value, subtree in tree[feature].items():\n",
    "            print(f\"{indent}|   If {feature} = {value}:\")\n",
    "            print_tree(subtree, indent + \"       |\")\n",
    "    else:\n",
    "        print(f\"{indent}|-- {tree}\")"
   ]
  },
  {
   "cell_type": "code",
   "execution_count": 35,
   "metadata": {},
   "outputs": [
    {
     "data": {
      "text/html": [
       "<div>\n",
       "<style scoped>\n",
       "    .dataframe tbody tr th:only-of-type {\n",
       "        vertical-align: middle;\n",
       "    }\n",
       "\n",
       "    .dataframe tbody tr th {\n",
       "        vertical-align: top;\n",
       "    }\n",
       "\n",
       "    .dataframe thead th {\n",
       "        text-align: right;\n",
       "    }\n",
       "</style>\n",
       "<table border=\"1\" class=\"dataframe\">\n",
       "  <thead>\n",
       "    <tr style=\"text-align: right;\">\n",
       "      <th></th>\n",
       "      <th>Outlook</th>\n",
       "      <th>Temperature</th>\n",
       "      <th>Humidity</th>\n",
       "      <th>Windy</th>\n",
       "      <th>Play</th>\n",
       "    </tr>\n",
       "  </thead>\n",
       "  <tbody>\n",
       "    <tr>\n",
       "      <th>0</th>\n",
       "      <td>Sunny</td>\n",
       "      <td>Hot</td>\n",
       "      <td>High</td>\n",
       "      <td>False</td>\n",
       "      <td>No</td>\n",
       "    </tr>\n",
       "    <tr>\n",
       "      <th>1</th>\n",
       "      <td>Sunny</td>\n",
       "      <td>Hot</td>\n",
       "      <td>High</td>\n",
       "      <td>True</td>\n",
       "      <td>No</td>\n",
       "    </tr>\n",
       "    <tr>\n",
       "      <th>2</th>\n",
       "      <td>Sunny</td>\n",
       "      <td>Mild</td>\n",
       "      <td>High</td>\n",
       "      <td>False</td>\n",
       "      <td>Yes</td>\n",
       "    </tr>\n",
       "    <tr>\n",
       "      <th>3</th>\n",
       "      <td>Sunny</td>\n",
       "      <td>Cool</td>\n",
       "      <td>High</td>\n",
       "      <td>False</td>\n",
       "      <td>Yes</td>\n",
       "    </tr>\n",
       "    <tr>\n",
       "      <th>4</th>\n",
       "      <td>Sunny</td>\n",
       "      <td>Mild</td>\n",
       "      <td>High</td>\n",
       "      <td>False</td>\n",
       "      <td>Yes</td>\n",
       "    </tr>\n",
       "  </tbody>\n",
       "</table>\n",
       "</div>"
      ],
      "text/plain": [
       "  Outlook Temperature Humidity  Windy Play\n",
       "0   Sunny         Hot     High  False   No\n",
       "1   Sunny         Hot     High   True   No\n",
       "2   Sunny        Mild     High  False  Yes\n",
       "3   Sunny        Cool     High  False  Yes\n",
       "4   Sunny        Mild     High  False  Yes"
      ]
     },
     "execution_count": 35,
     "metadata": {},
     "output_type": "execute_result"
    }
   ],
   "source": [
    "data = pd.read_csv(\"./Data/weather.csv\")\n",
    "data.head(5)"
   ]
  },
  {
   "cell_type": "code",
   "execution_count": 36,
   "metadata": {},
   "outputs": [
    {
     "name": "stdout",
     "output_type": "stream",
     "text": [
      "Decision Tree:\n",
      "|\n",
      "|-- Temperature ?\n",
      "|   If Temperature = Hot:\n",
      "       ||-- No\n",
      "|   If Temperature = Mild:\n",
      "       ||\n",
      "       ||-- Outlook ?\n",
      "       ||   If Outlook = Sunny:\n",
      "       |       ||-- Yes\n",
      "       ||   If Outlook = Overcast:\n",
      "       |       ||-- No\n",
      "|   If Temperature = Cool:\n",
      "       ||\n",
      "       ||-- Outlook ?\n",
      "       ||   If Outlook = Sunny:\n",
      "       |       ||\n",
      "       |       ||-- Windy ?\n",
      "       |       ||   If Windy = False:\n",
      "       |       |       ||-- Yes\n",
      "       |       ||   If Windy = True:\n",
      "       |       |       ||-- No\n",
      "       ||   If Outlook = Rain:\n",
      "       |       ||-- No\n",
      "\n",
      "Classification result for the new sample: Yes\n"
     ]
    }
   ],
   "source": [
    "# Convert the target variable to a categorical variable\n",
    "target = 'Play'\n",
    "features = ['Outlook','Temperature','Humidity','Windy']\n",
    "\n",
    "# Build the decision tree using ID3 algorithm\n",
    "tree = id3(data, target, features)\n",
    "\n",
    "# Print the decision tree\n",
    "print(\"Decision Tree:\")\n",
    "print_tree(tree)\n",
    "\n",
    "# Classify a new sample\n",
    "new_sample = {\n",
    "    'Outlook': 'Sunny',\n",
    "    'Temperature': 'Mild',\n",
    "    'Humidity': 'High',\n",
    "    'Windy': True\n",
    "}\n",
    "\n",
    "# Convert the sample to a pandas Series for easy indexing\n",
    "new_sample = pd.Series(new_sample)\n",
    "\n",
    "# Classify the new sample using the decision tree\n",
    "result = classify(tree, new_sample)\n",
    "print(\"\\nClassification result for the new sample:\", result)\n"
   ]
  }
 ],
 "metadata": {
  "kernelspec": {
   "display_name": "Python 3",
   "language": "python",
   "name": "python3"
  },
  "language_info": {
   "codemirror_mode": {
    "name": "ipython",
    "version": 3
   },
   "file_extension": ".py",
   "mimetype": "text/x-python",
   "name": "python",
   "nbconvert_exporter": "python",
   "pygments_lexer": "ipython3",
   "version": "3.13.2"
  }
 },
 "nbformat": 4,
 "nbformat_minor": 2
}
